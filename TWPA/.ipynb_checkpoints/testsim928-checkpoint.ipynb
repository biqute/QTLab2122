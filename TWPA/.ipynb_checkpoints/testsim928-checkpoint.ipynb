{
 "cells": [
  {
   "cell_type": "code",
   "execution_count": 1,
   "id": "bf958b0f",
   "metadata": {},
   "outputs": [
    {
     "name": "stderr",
     "output_type": "stream",
     "text": [
      "C:\\Users\\oper\\Desktop\\labparamp\\Env\\paramp\\lib\\site-packages\\visa.py:13: FutureWarning: The visa module provided by PyVISA is being deprecated. You can replace `import visa` by `import pyvisa as visa` to achieve the same effect.\n",
      "\n",
      "The reason for the deprecation is the possible conflict with the visa package provided by the https://github.com/visa-sdk/visa-python which can result in hard to debug situations.\n",
      "  warnings.warn(\n"
     ]
    },
    {
     "name": "stdout",
     "output_type": "stream",
     "text": [
      "Bella zi\n"
     ]
    }
   ],
   "source": [
    "#!/usr/bin/env python3  Line 1\n",
    "# -*- coding: utf-8 -*- Line 2\n",
    "#----------------------------------------------------------------------------\n",
    "# Created By  : Celotto Andrea, Palumbo Emanuele, Zafferani Alessandro   Line 3\n",
    "# Created Date: 16/02/2022 12:30\n",
    "# version ='Beta 1.0'\n",
    "\n",
    "import visa \n",
    "import numpy as np\n",
    "import serial\n",
    "import time\n",
    "from SIM928 import *\n",
    "\n",
    "print('Bella zi')"
   ]
  },
  {
   "cell_type": "markdown",
   "id": "035130e6",
   "metadata": {},
   "source": [
    "# Connessione"
   ]
  },
  {
   "cell_type": "code",
   "execution_count": 2,
   "id": "10e247b5",
   "metadata": {},
   "outputs": [],
   "source": [
    "sim = SIM928('COM28', '4')"
   ]
  },
  {
   "cell_type": "code",
   "execution_count": 3,
   "id": "9ec88a9c",
   "metadata": {},
   "outputs": [
    {
     "name": "stdout",
     "output_type": "stream",
     "text": [
      "Stanford_Research_Systems,SIM928,s/n030465,ver2.2\r\n",
      "\n"
     ]
    }
   ],
   "source": [
    "sim.connect()"
   ]
  },
  {
   "cell_type": "markdown",
   "id": "7b75ce34",
   "metadata": {},
   "source": [
    "# Comandi"
   ]
  },
  {
   "cell_type": "code",
   "execution_count": 4,
   "id": "4df6da70",
   "metadata": {},
   "outputs": [],
   "source": [
    "#accensione\n",
    "sim.set_output(1)"
   ]
  },
  {
   "cell_type": "code",
   "execution_count": 5,
   "id": "9edbb855",
   "metadata": {},
   "outputs": [],
   "source": [
    "#set del voltaggio\n",
    "sim.set_voltage(4e-3)"
   ]
  },
  {
   "cell_type": "code",
   "execution_count": 6,
   "id": "24de235a",
   "metadata": {},
   "outputs": [
    {
     "name": "stdout",
     "output_type": "stream",
     "text": [
      "Voltage = 0.004\r\n",
      " V\n"
     ]
    },
    {
     "data": {
      "text/plain": [
       "'0.004\\r\\n'"
      ]
     },
     "execution_count": 6,
     "metadata": {},
     "output_type": "execute_result"
    }
   ],
   "source": [
    "sim.ask_voltage()"
   ]
  },
  {
   "cell_type": "markdown",
   "id": "6c152170",
   "metadata": {},
   "source": [
    "# Disconnessione"
   ]
  },
  {
   "cell_type": "code",
   "execution_count": 7,
   "id": "dc96278a",
   "metadata": {},
   "outputs": [
    {
     "name": "stdout",
     "output_type": "stream",
     "text": [
      "Stanford_Research_Systems,SIM928,s/n030465,ver2.2\n",
      "\n",
      "Stanford_Research_Systems,SIM900,s/n152741,ver3.6\n",
      "\n"
     ]
    }
   ],
   "source": [
    "sim.close_all()"
   ]
  }
 ],
 "metadata": {
  "kernelspec": {
   "display_name": "Python 3 (ipykernel)",
   "language": "python",
   "name": "python3"
  },
  "language_info": {
   "codemirror_mode": {
    "name": "ipython",
    "version": 3
   },
   "file_extension": ".py",
   "mimetype": "text/x-python",
   "name": "python",
   "nbconvert_exporter": "python",
   "pygments_lexer": "ipython3",
   "version": "3.8.8"
  }
 },
 "nbformat": 4,
 "nbformat_minor": 5
}
