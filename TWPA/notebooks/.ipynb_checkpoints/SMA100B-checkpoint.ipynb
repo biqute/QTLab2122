{
 "cells": [
  {
   "cell_type": "code",
   "execution_count": 11,
   "id": "4069926d",
   "metadata": {},
   "outputs": [],
   "source": [
    "#TCPIP0::169.254.2.20::inst0::INSTR\n",
    "\n",
    "\n",
    "#!/usr/bin/env python3  Line 1\n",
    "# -*- coding: utf-8 -*- Line 2\n",
    "#----------------------------------------------------------------------------\n",
    "# Created By  : Celotto Andrea, Palumbo Emanuele, Zafferani Alessandro   Line 3\n",
    "# Created Date: 16/02/2022 12:30\n",
    "# version ='Beta 1.0'\n",
    "\n",
    "import visa\n",
    "import time\n",
    "\n",
    "class SMA100B(object):\n",
    "    \n",
    "    # initialization\n",
    "    \n",
    "    def __init__(self, visa_name):\n",
    "        self.rm = visa.ResourceManager()\n",
    "        self.pyvisa = self.rm.open_resource(visa_name)\n",
    "        #self.pyvisa.timeout = 10000 # Set response timeout (in milliseconds)\n",
    "        #self.pyvisa.query_delay = 5 # Set extra delay time between write and read commands\n",
    "    \n",
    "    # main command\n",
    "    \n",
    "    def read(self):\n",
    "        return self.pyvisa.read()\n",
    "    \n",
    "    def write(self, string):\n",
    "        self.pyvisa.write(string)\n",
    "        \n",
    "    def query(self, string):\n",
    "        msg = self.pyvisa.query(string)\n",
    "        #print(msg)\n",
    "        return  msg\n",
    "    \n",
    "    def close(self):\n",
    "        self.pyvisa.close()\n",
    "\n",
    "        \n",
    "    # reset initial value\n",
    "    \n",
    "    def reset(self):\n",
    "        sim.write('*RST')\n",
    "        \n",
    "    # TO SET FREQUENCY AMD AMPLITUDE OF WAVES \n",
    "    # frequency\n",
    "    \n",
    "    def set_freq(self, freq):\n",
    "        self.write('SOURce1:FREQuency:CW ' + str(freq))\n",
    "        \n",
    "    def set_freq_off(self, off): \n",
    "        self.write('SOURce1:FREQuency:OFFSet'+ str(off) )\n",
    "    \n",
    "    def set_freq_mult(self, mult): \n",
    "        self.write('SOURce1:FREQuency:MULTiplier '+ str(mult))\n",
    "    \n",
    "    def ask_freq(self):\n",
    "        self.query('SOURce1:FREQuency:CW?')\n",
    "        \n",
    "    \n",
    "    # amplitude\n",
    "    \n",
    "    def set_ampl(self, ampl):\n",
    "        self.write('SOURce1:POWer:LEVel:IMMediate:AMPLitude ' + str(ampl))\n",
    "        \n",
    "    # shape\n",
    "    \n",
    "    def set_shape(self, s):\n",
    "        self.write('SOURce1:LFOutput1:SHAPe ' + str(s))\n",
    "        \n",
    "        \n"
   ]
  },
  {
   "cell_type": "code",
   "execution_count": 12,
   "id": "a43d6db1",
   "metadata": {},
   "outputs": [],
   "source": [
    "sim = SMA100B('TCPIP0::169.254.2.20::inst0::INSTR')"
   ]
  },
  {
   "cell_type": "code",
   "execution_count": 13,
   "id": "85d71cc7",
   "metadata": {},
   "outputs": [
    {
     "data": {
      "text/plain": [
       "'Rohde&Schwarz,SMA100B,1419.8888K02/105168,4.70.205.75  \\n'"
      ]
     },
     "execution_count": 13,
     "metadata": {},
     "output_type": "execute_result"
    }
   ],
   "source": [
    "sim.query('*IDN?')"
   ]
  },
  {
   "cell_type": "code",
   "execution_count": 14,
   "id": "9f1f6896",
   "metadata": {},
   "outputs": [],
   "source": [
    "sim.reset()"
   ]
  },
  {
   "cell_type": "code",
   "execution_count": 15,
   "id": "700bd705",
   "metadata": {},
   "outputs": [],
   "source": [
    "sim.set_ampl(-25)"
   ]
  },
  {
   "cell_type": "code",
   "execution_count": 18,
   "id": "b3cbfacd",
   "metadata": {},
   "outputs": [],
   "source": [
    "sim.set_freq(1e4)"
   ]
  },
  {
   "cell_type": "code",
   "execution_count": 8,
   "id": "d8a9cfb1",
   "metadata": {},
   "outputs": [],
   "source": [
    "sim.write('SOURce1:LFOutput1:SHAPe SINE')"
   ]
  },
  {
   "cell_type": "code",
   "execution_count": 19,
   "id": "8f2df9a2",
   "metadata": {},
   "outputs": [],
   "source": [
    "#sim.reset()\n",
    "sim.write(':OUTPut1 ON') "
   ]
  }
 ],
 "metadata": {
  "kernelspec": {
   "display_name": "Python 3 (ipykernel)",
   "language": "python",
   "name": "python3"
  },
  "language_info": {
   "codemirror_mode": {
    "name": "ipython",
    "version": 3
   },
   "file_extension": ".py",
   "mimetype": "text/x-python",
   "name": "python",
   "nbconvert_exporter": "python",
   "pygments_lexer": "ipython3",
   "version": "3.8.8"
  }
 },
 "nbformat": 4,
 "nbformat_minor": 5
}
