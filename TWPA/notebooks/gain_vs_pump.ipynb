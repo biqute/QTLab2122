{
 "cells": [
  {
   "cell_type": "code",
   "execution_count": 18,
   "id": "95aa1016",
   "metadata": {},
   "outputs": [
    {
     "name": "stdout",
     "output_type": "stream",
     "text": [
      "C:\\Users\\oper\\Desktop\\labparamp\\QTLab2122\\TWPA\\Classes\n",
      "C:\\Users\\oper\\Desktop\\labparamp\\QTLab2122\\TWPA\\Classes\n",
      "The autoreload extension is already loaded. To reload it, use:\n",
      "  %reload_ext autoreload\n"
     ]
    }
   ],
   "source": [
    "import visa \n",
    "import numpy as np\n",
    "import serial\n",
    "import time\n",
    "import os\n",
    "import math\n",
    "import h5py\n",
    "from utils import *\n",
    "from pathlib import Path\n",
    "path = os.getcwd()\n",
    "path = Path(path)\n",
    "print(Path(str(path.parent) + '\\\\Classes\\\\') )\n",
    "\n",
    "import sys\n",
    "sys.path.append(str(path.parent) + '\\\\Classes\\\\')\n",
    "from SMA100B import *\n",
    "from vna import *\n",
    "from SIM928 import *\n",
    "\n",
    "%load_ext autoreload\n",
    "%autoreload 2"
   ]
  },
  {
   "cell_type": "code",
   "execution_count": 2,
   "id": "069b0af4",
   "metadata": {},
   "outputs": [
    {
     "data": {
      "text/plain": [
       "'Keysight Technologies,N9916A,MY53104702,A.08.01\\n'"
      ]
     },
     "execution_count": 2,
     "metadata": {},
     "output_type": "execute_result"
    }
   ],
   "source": [
    "field_fox = vna('192.168.3.51')\n",
    "field_fox.query('*IDN?')"
   ]
  },
  {
   "cell_type": "code",
   "execution_count": 3,
   "id": "675f3fde",
   "metadata": {},
   "outputs": [
    {
     "data": {
      "text/plain": [
       "'Rohde&Schwarz,SMA100B,1419.8888K02/105168,4.70.205.75  \\n'"
      ]
     },
     "execution_count": 3,
     "metadata": {},
     "output_type": "execute_result"
    }
   ],
   "source": [
    "pump = SMA100B('192.168.3.2')\n",
    "pump.query('*IDN?')"
   ]
  },
  {
   "cell_type": "code",
   "execution_count": 4,
   "id": "ff2bdda7",
   "metadata": {},
   "outputs": [
    {
     "name": "stdout",
     "output_type": "stream",
     "text": [
      "8\n",
      "2350\n",
      "201\n"
     ]
    }
   ],
   "source": [
    "#pump power\n",
    "p0 = -20 #-45\n",
    "p1 = -18 #-15 #best: 19\n",
    "dp = 0.25 #2\n",
    "N_p = math.floor((p1-p0)/dp)\n",
    "print(N_p)\n",
    "\n",
    "#pump frequency\n",
    "f0 = 16612500000.0 #16.5\n",
    "f1 = 16730000000.0 #17.5\n",
    "df = 50e3\n",
    "N_f = math.floor((f1-f0)/df)\n",
    "print(N_f)\n",
    "\n",
    "\n",
    "f, d = field_fox.print_data()\n",
    "n_points = f.size\n",
    "\n",
    "storage_hdf5('scan_picco2.hdf5', f, 'freq')\n",
    "print(n_points)\n",
    "\n",
    "spectra= np.empty((N_f, n_points, N_p))"
   ]
  },
  {
   "cell_type": "code",
   "execution_count": 5,
   "id": "d96e65fb",
   "metadata": {},
   "outputs": [
    {
     "name": "stdout",
     "output_type": "stream",
     "text": [
      "0.0%\n",
      "12.5%\n",
      "25.0%\n",
      "37.5%\n",
      "50.0%\n",
      "62.5%\n",
      "75.0%\n",
      "87.5%\n"
     ]
    }
   ],
   "source": [
    "start_time = time.time()\n",
    "for j in range(0, N_p):\n",
    "    pump.set_ampl(p0 + j*dp)\n",
    "    print(str(j/N_p * 100) + '%')\n",
    "   \n",
    "    for k in range(0, N_f):\n",
    "        pump.set_freq(f0 + k*df)\n",
    "        time.sleep(5)\n",
    "        f, d = field_fox.print_data()\n",
    "        \n",
    "        for i in range(0, n_points):\n",
    "            spectra[k][i][j] = d[i]\n",
    "final_time = time.time() - start_time\n",
    "storage_hdf5('scan_picco2.hdf5', spectra, 'spectra')\n"
   ]
  },
  {
   "cell_type": "code",
   "execution_count": 21,
   "id": "659be42a",
   "metadata": {},
   "outputs": [
    {
     "name": "stderr",
     "output_type": "stream",
     "text": [
      "[autoreload of utils failed: Traceback (most recent call last):\n",
      "  File \"C:\\Users\\oper\\Desktop\\labparamp\\Env\\paramp\\lib\\site-packages\\IPython\\extensions\\autoreload.py\", line 257, in check\n",
      "    superreload(m, reload, self.old_objects)\n",
      "  File \"C:\\Users\\oper\\Desktop\\labparamp\\Env\\paramp\\lib\\site-packages\\IPython\\extensions\\autoreload.py\", line 455, in superreload\n",
      "    module = reload(module)\n",
      "  File \"C:\\Users\\oper\\AppData\\Local\\Programs\\Python\\Python38\\lib\\importlib\\__init__.py\", line 169, in reload\n",
      "    _bootstrap._exec(spec, module)\n",
      "  File \"<frozen importlib._bootstrap>\", line 604, in _exec\n",
      "  File \"<frozen importlib._bootstrap_external>\", line 779, in exec_module\n",
      "  File \"<frozen importlib._bootstrap_external>\", line 916, in get_code\n",
      "  File \"<frozen importlib._bootstrap_external>\", line 846, in source_to_code\n",
      "  File \"<frozen importlib._bootstrap>\", line 219, in _call_with_frames_removed\n",
      "  File \"C:\\Users\\oper\\Desktop\\labparamp\\QTLab2122\\TWPA\\notebooks\\utils.py\", line 28\n",
      "    if\n",
      "      ^\n",
      "SyntaxError: invalid syntax\n",
      "]\n"
     ]
    }
   ],
   "source": [
    "#bias 0.395 V soglia"
   ]
  },
  {
   "cell_type": "code",
   "execution_count": null,
   "id": "e1cf2284",
   "metadata": {},
   "outputs": [],
   "source": []
  }
 ],
 "metadata": {
  "kernelspec": {
   "display_name": "Python 3 (ipykernel)",
   "language": "python",
   "name": "python3"
  },
  "language_info": {
   "codemirror_mode": {
    "name": "ipython",
    "version": 3
   },
   "file_extension": ".py",
   "mimetype": "text/x-python",
   "name": "python",
   "nbconvert_exporter": "python",
   "pygments_lexer": "ipython3",
   "version": "3.8.8"
  }
 },
 "nbformat": 4,
 "nbformat_minor": 5
}
