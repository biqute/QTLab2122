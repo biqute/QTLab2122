{
 "cells": [
  {
   "cell_type": "code",
   "execution_count": 1,
   "id": "03bc15e2",
   "metadata": {},
   "outputs": [
    {
     "name": "stderr",
     "output_type": "stream",
     "text": [
      "C:\\Users\\oper\\Desktop\\labparamp\\Env\\paramp\\lib\\site-packages\\visa.py:13: FutureWarning: The visa module provided by PyVISA is being deprecated. You can replace `import visa` by `import pyvisa as visa` to achieve the same effect.\n",
      "\n",
      "The reason for the deprecation is the possible conflict with the visa package provided by the https://github.com/visa-sdk/visa-python which can result in hard to debug situations.\n",
      "  warnings.warn(\n"
     ]
    },
    {
     "name": "stdout",
     "output_type": "stream",
     "text": [
      "C:\\Users\\oper\\Desktop\\labparamp\\QTLab2122\\TWPA\\Classes\n"
     ]
    }
   ],
   "source": [
    "import visa \n",
    "import numpy as np\n",
    "import serial\n",
    "import time\n",
    "import os\n",
    "from pathlib import Path\n",
    "path = os.getcwd()\n",
    "path = Path(path)\n",
    "print(Path(str(path.parent) + '\\\\Classes\\\\') )\n",
    "\n",
    "import sys\n",
    "sys.path.append(str(path.parent) + '\\\\Classes\\\\')\n",
    "from SIM928 import *"
   ]
  },
  {
   "cell_type": "code",
   "execution_count": 2,
   "id": "1a84bc4a",
   "metadata": {},
   "outputs": [],
   "source": [
    "sim = SIM928('COM1', '4')"
   ]
  },
  {
   "cell_type": "code",
   "execution_count": null,
   "id": "96fbd750",
   "metadata": {},
   "outputs": [],
   "source": [
    "while True:\n",
    "    sim.set_voltage(0.377) #497\n",
    "    time.sleep(14400)"
   ]
  },
  {
   "cell_type": "code",
   "execution_count": null,
   "id": "b1f1d328",
   "metadata": {},
   "outputs": [],
   "source": []
  }
 ],
 "metadata": {
  "kernelspec": {
   "display_name": "Python 3 (ipykernel)",
   "language": "python",
   "name": "python3"
  },
  "language_info": {
   "codemirror_mode": {
    "name": "ipython",
    "version": 3
   },
   "file_extension": ".py",
   "mimetype": "text/x-python",
   "name": "python",
   "nbconvert_exporter": "python",
   "pygments_lexer": "ipython3",
   "version": "3.8.8"
  }
 },
 "nbformat": 4,
 "nbformat_minor": 5
}
