{
 "cells": [
  {
   "cell_type": "code",
   "execution_count": 1,
   "id": "bf958b0f",
   "metadata": {},
   "outputs": [
    {
     "name": "stderr",
     "output_type": "stream",
     "text": [
      "C:\\Users\\oper\\Desktop\\labparamp\\Env\\paramp\\lib\\site-packages\\visa.py:13: FutureWarning: The visa module provided by PyVISA is being deprecated. You can replace `import visa` by `import pyvisa as visa` to achieve the same effect.\n",
      "\n",
      "The reason for the deprecation is the possible conflict with the visa package provided by the https://github.com/visa-sdk/visa-python which can result in hard to debug situations.\n",
      "  warnings.warn(\n"
     ]
    },
    {
     "name": "stdout",
     "output_type": "stream",
     "text": [
      "Bella zi\n"
     ]
    }
   ],
   "source": [
    "import visa \n",
    "import numpy as np\n",
    "import serial\n",
    "import time\n",
    "\n",
    "print('Bella zi')"
   ]
  },
  {
   "cell_type": "markdown",
   "id": "ae3bd588",
   "metadata": {},
   "source": [
    "# Classe"
   ]
  },
  {
   "cell_type": "code",
   "execution_count": 2,
   "id": "7158f49b",
   "metadata": {},
   "outputs": [],
   "source": [
    "class SIM928(object):\n",
    "    def __init__(self, visa_name, sim900port):\n",
    "        self.rm = visa.ResourceManager()\n",
    "        #print(self.rm.list_resources())\n",
    "        self.pyvisa = self.rm.open_resource(visa_name)\n",
    "        self.pyvisa.timeout = 10000 # Set response timeout (in milliseconds)\n",
    "        self.pyvisa.query_delay = 5 # Set extra delay time between write and read commands\n",
    "        self.sim900port = sim900port\n",
    "        #self.query(\"CONN \" + self.sim900port + \",\\'mod\\'\")\n",
    "        #self.pyvisa.query('CONN ' + self.sim900port + ',\\\"mod\\\"')\n",
    "        \n",
    "    #comandi fondamentali\n",
    "    def read(self):\n",
    "        return self.pyvisa.read()\n",
    "    \n",
    "    def write(self, string):\n",
    "        self.pyvisa.write(string)\n",
    "        \n",
    "    def query(self, string):\n",
    "        msg = self.pyvisa.query(string)\n",
    "        #print(msg)\n",
    "        return  msg\n",
    "    \n",
    "    def close(self):\n",
    "        self.pyvisa.close()\n",
    "        \n",
    "    #comandi di connessione\n",
    "    def switch_conn(self):\n",
    "        self.write('CONN ' + str(self.sim900port) + ',\"esc\"')\n",
    "    \n",
    "    def position(self):\n",
    "        a=self.query('*IDN?')\n",
    "        print(a)\n",
    "        return  a\n",
    "    \n",
    "    ''''#comandi di interfaccia\n",
    "    def write_simport(self, message):\n",
    "        write_str = 'SNDT ' + str(self.sim900port) + ',\"' + message + '\"'\n",
    "         # print write_str\n",
    "        self.write(write_str) # Format of 'SNDT 4,\\\"GAIN 10\\\"'\n",
    "        print(write_str)\n",
    "    def query_simport(self, message):\n",
    "        write_str = 'SNDT ' + str(self.sim900port) + ',\"' + message + '\"'\n",
    "        print(write_str)\n",
    "        return self.query(write_str) # Format of 'SNDT 4,\\\"GAIN 10\\\"'\n",
    "        \n",
    "    def reset(self):\n",
    "        self.write_simport('*RST')\n",
    "    '''\n",
    "    #comandi di istruzione\n",
    "    def set_voltage(self, voltage=0.0):\n",
    "       # In a string, %0.4e converts a number to scientific notation\n",
    "        #self.write_simport('VOLT ' + str(voltage))\n",
    "        self.write('VOLT ' + str(voltage))\n",
    "        \n",
    "    def set_output(self, output=False):\n",
    "        if output==True:\n",
    "            self.write('OPON') \n",
    "        else:\n",
    "            self.write('OPOF')  # Only uses \"OPOF\" or \"OPON\": \"OPOFF\" does not work"
   ]
  },
  {
   "cell_type": "markdown",
   "id": "035130e6",
   "metadata": {},
   "source": [
    "# Connessione"
   ]
  },
  {
   "cell_type": "code",
   "execution_count": 3,
   "id": "10e247b5",
   "metadata": {},
   "outputs": [],
   "source": [
    "sim = SIM928('COM28', '4')"
   ]
  },
  {
   "cell_type": "code",
   "execution_count": null,
   "id": "9ec88a9c",
   "metadata": {},
   "outputs": [],
   "source": [
    "sim.position()\n",
    "sim.switch_conn()\n",
    "sim.position()"
   ]
  },
  {
   "cell_type": "markdown",
   "id": "7b75ce34",
   "metadata": {},
   "source": [
    "# Comandi"
   ]
  },
  {
   "cell_type": "code",
   "execution_count": null,
   "id": "9edbb855",
   "metadata": {},
   "outputs": [],
   "source": [
    "sim.set_voltage(4e-3)\n",
    "\n",
    "sim.query('VOLT?')"
   ]
  },
  {
   "cell_type": "markdown",
   "id": "05c9b8b1",
   "metadata": {},
   "source": [
    "# Disconnessione"
   ]
  },
  {
   "cell_type": "code",
   "execution_count": 5,
   "id": "dc96278a",
   "metadata": {},
   "outputs": [
    {
     "name": "stdout",
     "output_type": "stream",
     "text": [
      "Stanford_Research_Systems,SIM900,s/n152741,ver3.6\r\n",
      "\n"
     ]
    },
    {
     "data": {
      "text/plain": [
       "'Stanford_Research_Systems,SIM900,s/n152741,ver3.6\\r\\n'"
      ]
     },
     "execution_count": 5,
     "metadata": {},
     "output_type": "execute_result"
    }
   ],
   "source": [
    "sim.switch_conn()\n",
    "sim.position()"
   ]
  },
  {
   "cell_type": "code",
   "execution_count": null,
   "id": "56e2ff50",
   "metadata": {},
   "outputs": [],
   "source": []
  }
 ],
 "metadata": {
  "kernelspec": {
   "display_name": "Python 3 (ipykernel)",
   "language": "python",
   "name": "python3"
  },
  "language_info": {
   "codemirror_mode": {
    "name": "ipython",
    "version": 3
   },
   "file_extension": ".py",
   "mimetype": "text/x-python",
   "name": "python",
   "nbconvert_exporter": "python",
   "pygments_lexer": "ipython3",
   "version": "3.8.8"
  }
 },
 "nbformat": 4,
 "nbformat_minor": 5
}
