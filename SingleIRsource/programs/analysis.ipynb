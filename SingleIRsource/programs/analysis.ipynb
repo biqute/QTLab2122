{
 "cells": [
  {
   "cell_type": "code",
   "execution_count": null,
   "metadata": {},
   "outputs": [],
   "source": [
    "%load_ext autoreload\n",
    "%autoreload 2"
   ]
  },
  {
   "cell_type": "code",
   "execution_count": 25,
   "metadata": {},
   "outputs": [],
   "source": [
    "import h5py\n",
    "import numpy as np\n",
    "import matplotlib.pyplot as plt\n",
    "from instruments.utils import *\n",
    "from instruments.FSW_0010 import *\n",
    "from instruments.PXIe_5170R import *\n",
    "import time"
   ]
  },
  {
   "cell_type": "code",
   "execution_count": 30,
   "metadata": {},
   "outputs": [],
   "source": [
    "file_name = '../data/scan_1GHz'\n",
    "file = file_name + '.h5'\n",
    "ref = 5.87045 \n",
    "step = 0.0002\n",
    "window     = 100           #length of half of the interval on x axis\n",
    "step       = 0.0002        #length of a single step during the frequency sweep (GHz)"
   ]
  },
  {
   "cell_type": "code",
   "execution_count": null,
   "metadata": {},
   "outputs": [],
   "source": [
    "trigger = dict(\n",
    "    trigger_type   = 'IMMEDIATE', #'EDGE', 'IMMEDIATE' or 'DIGITAL'\n",
    "    trigger_source = '0',\n",
    "    trigger_slope  = 'POSITIVE', #'POSITIVE' or 'NEGATIVE'\n",
    "    trigger_level  = '0.0',\n",
    "    trigger_delay  = '0.0'\n",
    ")\n",
    "\n",
    "daq =  PXIeSignalAcq(\"PXI1Slot2\", trigger=trigger, records=1, channels=[0,1], sample_rate=5e7, length=1000)\n",
    "with FSWSynt(\"COM12\") as synt:\n",
    "    print(synt.get_ID())\n",
    "    \n",
    "    for i in range(-window, window):\n",
    "        freq = ref + i*step\n",
    "        print(synt.set_freq(freq))\n",
    "        time.sleep(0.005)\n",
    "        #print(synt.get_freq(freq))\n",
    "        print(i)\n",
    "        daq.acq()   #DA TESTARE\n",
    "    \n",
    "    daq.storage_hdf5(file_name + '.h5')\n",
    "\n",
    "daq.close()"
   ]
  },
  {
   "cell_type": "code",
   "execution_count": 32,
   "metadata": {},
   "outputs": [
    {
     "name": "stdout",
     "output_type": "stream",
     "text": [
      "10 frequencies considered, for each one 1000 points have been taken.\n"
     ]
    }
   ],
   "source": [
    "I, Q = get_hdf5(file)\n",
    "print('%d frequencies considered, for each one %d points have been taken.' %(len(I), len(I[0])))"
   ]
  },
  {
   "cell_type": "code",
   "execution_count": null,
   "metadata": {},
   "outputs": [],
   "source": [
    "I_mean, Q_mean = get_mean(file)\n",
    "big_plot_from_array(I_mean, Q_mean, ref, step)"
   ]
  },
  {
   "cell_type": "code",
   "execution_count": null,
   "metadata": {},
   "outputs": [],
   "source": [
    "x = []\n",
    "for i in range(-int(len(Q_mean)/2), int(len(Q_mean)/2)): \n",
    "    x.append(ref + i*step) \n",
    "#decide begin and end by looking at the plot\n",
    "index_max = der_IQ(x, I_mean, Q_mean, begin = 50, end = 150, plot = True)"
   ]
  }
 ],
 "metadata": {
  "language_info": {
   "name": "python"
  },
  "orig_nbformat": 4
 },
 "nbformat": 4,
 "nbformat_minor": 2
}
