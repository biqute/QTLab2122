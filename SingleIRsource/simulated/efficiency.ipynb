{
 "cells": [
  {
   "cell_type": "code",
   "execution_count": 9,
   "metadata": {},
   "outputs": [
    {
     "name": "stdout",
     "output_type": "stream",
     "text": [
      "LLLL\n",
      "LLLL\n",
      "LLLL\n",
      "LLLL\n",
      "LLLL\n",
      "LLLL\n",
      "LLLL\n",
      "LLLL\n",
      "LLLL\n",
      "LLLL\n",
      "LLLL\n",
      "LLLL\n",
      "LLLL\n",
      "LLLL\n",
      "LLLL\n",
      "LLLL\n",
      "LLLL\n",
      "LLLL\n",
      "LLLL\n",
      "LLLL\n",
      "LLLL\n",
      "LLLL\n",
      "LLLL\n",
      "LLLL\n",
      "LLLL\n",
      "LLLL\n",
      "LLLL\n",
      "LLLL\n",
      "LLLL\n",
      "LLLL\n",
      "LLLL\n",
      "LLLL\n",
      "LLLL\n",
      "LLLL\n",
      "LLLL\n",
      "LLLL\n",
      "LLLL\n",
      "LLLL\n",
      "LLLL\n",
      "LLLL\n",
      "LLLL\n",
      "LLLL\n",
      "LLLL\n",
      "LLLL\n",
      "LLLL\n",
      "LLLL\n",
      "LLLL\n",
      "LLLL\n",
      "LLLL\n",
      "LLLL\n",
      "LLLL\n",
      "LLLL\n",
      "LLLL\n",
      "LLLL\n",
      "LLLL\n",
      "LLLL\n",
      "LLLL\n",
      "LLLL\n",
      "LLLL\n",
      "LLLL\n",
      "LLLL\n",
      "LLLL\n",
      "LLLL\n",
      "LLLL\n",
      "LLLL\n",
      "LLLL\n",
      "LLLL\n",
      "LLLL\n",
      "LLLL\n",
      "LLLL\n",
      "LLLL\n",
      "LLLL\n",
      "LLLL\n",
      "LLLL\n",
      "LLLL\n",
      "LLLL\n",
      "LLLL\n",
      "LLLL\n",
      "LLLL\n",
      "LLLL\n",
      "LLLL\n",
      "LLLL\n",
      "LLLL\n",
      "LLLL\n",
      "LLLL\n",
      "LLLL\n",
      "LLLL\n",
      "LLLL\n",
      "LLLL\n",
      "LLLL\n",
      "LLLL\n",
      "LLLL\n",
      "LLLL\n",
      "LLLL\n",
      "LLLL\n",
      "LLLL\n",
      "LLLL\n",
      "LLLL\n",
      "LLLL\n",
      "LLLL\n"
     ]
    },
    {
     "data": {
      "image/png": "[encoded data removed]",
      "text/plain": [
       "<Figure size 432x288 with 1 Axes>"
      ]
     },
     "metadata": {
      "needs_background": "light"
     },
     "output_type": "display_data"
    }
   ],
   "source": [
    "import numpy as np\n",
    "import matplotlib.pyplot as plt\n",
    "from trigger import *\n",
    "n_sample = 100\n",
    "amplitude = np.linspace(10, 1000, 100)\n",
    "total_eff = []\n",
    "\n",
    "for amp in amplitude:\n",
    "    single_eff = []\n",
    "    for i in range(n_sample):\n",
    "        signal = gen_signal(baseline=-10, amplitude=amp, noise_lev=1)\n",
    "        min = derivative_trigger(signal)\n",
    "        single_eff.append(efficiency(min))\n",
    "\n",
    "    total_eff.append(get_efficiency(single_eff, n_sample))\n",
    "\n",
    "plt.plot(amplitude, total_eff)\n",
    "plt.show()"
   ]
  },
  {
   "cell_type": "code",
   "execution_count": null,
   "metadata": {},
   "outputs": [
    {
     "data": {
      "text/plain": [
       "3.74"
      ]
     },
     "execution_count": 4,
     "metadata": {},
     "output_type": "execute_result"
    }
   ],
   "source": [
    "signal = gen_signal(baseline=-10, amplitude=30, noise_lev=1)\n",
    "min = derivative_trigger(signal)\n",
    "\n",
    "efficiency(min)"
   ]
  },
  {
   "cell_type": "code",
   "execution_count": null,
   "metadata": {},
   "outputs": [],
   "source": [
    "def efficiency2(index, x=np.linspace(0,1000,1000), pulse_start=200):\n",
    "    d_max = 0\n",
    "    d = pulse_start - index\n",
    "    print(d)\n",
    "    if d > 0:\n",
    "        d_max = pulse_start\n",
    "        print(d, d_max)\n",
    "    else:\n",
    "        d = -d\n",
    "        d_max = len(x) - pulse_start\n",
    "        print(d, d_max)\n",
    "\n",
    "    return d/d_max"
   ]
  },
  {
   "cell_type": "code",
   "execution_count": 6,
   "metadata": {},
   "outputs": [
    {
     "data": {
      "text/plain": [
       "0.0"
      ]
     },
     "execution_count": 6,
     "metadata": {},
     "output_type": "execute_result"
    }
   ],
   "source": [
    "signal = gen_signal(baseline=-10, amplitude=30, noise_lev=1)\n",
    "min = derivative_trigger(signal)\n",
    "\n",
    "efficiency(min)"
   ]
  }
 ],
 "metadata": {
  "interpreter": {
   "hash": "4a168565c79330c79156aaa0bdfe5c7539f38726b560dfeea9e416123ca16109"
  },
  "kernelspec": {
   "display_name": "Python 3.10.1 ('daqenv': venv)",
   "language": "python",
   "name": "python3"
  },
  "language_info": {
   "codemirror_mode": {
    "name": "ipython",
    "version": 3
   },
   "file_extension": ".py",
   "mimetype": "text/x-python",
   "name": "python",
   "nbconvert_exporter": "python",
   "pygments_lexer": "ipython3",
   "version": "3.10.1"
  },
  "orig_nbformat": 4
 },
 "nbformat": 4,
 "nbformat_minor": 2
}
